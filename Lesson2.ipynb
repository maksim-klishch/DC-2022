{
 "cells": [
  {
   "cell_type": "markdown",
   "metadata": {},
   "source": [
    "# Install requirements"
   ]
  },
  {
   "cell_type": "code",
   "execution_count": 1,
   "metadata": {},
   "outputs": [
    {
     "name": "stdout",
     "output_type": "stream",
     "text": [
      "Collecting numpy\n",
      "  Using cached numpy-1.23.4-cp38-cp38-manylinux_2_17_x86_64.manylinux2014_x86_64.whl (17.1 MB)\n",
      "Installing collected packages: numpy\n",
      "Successfully installed numpy-1.23.4\n"
     ]
    }
   ],
   "source": [
    "!pip install numpy"
   ]
  },
  {
   "cell_type": "markdown",
   "metadata": {},
   "source": [
    "# Import libs"
   ]
  },
  {
   "cell_type": "code",
   "execution_count": 3,
   "metadata": {},
   "outputs": [],
   "source": [
    "import numpy as np"
   ]
  },
  {
   "cell_type": "markdown",
   "metadata": {},
   "source": [
    "# Task1"
   ]
  },
  {
   "cell_type": "markdown",
   "metadata": {},
   "source": [
    "Calculating pi by the Monte Carlo method:"
   ]
  },
  {
   "cell_type": "code",
   "execution_count": 4,
   "metadata": {},
   "outputs": [],
   "source": [
    "n_points = 10000000"
   ]
  },
  {
   "cell_type": "code",
   "execution_count": 5,
   "metadata": {},
   "outputs": [],
   "source": [
    "points = 2 * np.random.rand(n_points, 2) - 1"
   ]
  },
  {
   "cell_type": "code",
   "execution_count": 6,
   "metadata": {},
   "outputs": [],
   "source": [
    "points_in_circle = points[np.sum(points ** 2, axis=1) <= 1]"
   ]
  },
  {
   "cell_type": "code",
   "execution_count": 7,
   "metadata": {},
   "outputs": [],
   "source": [
    "n_points_in_circle = points_in_circle.shape[0]"
   ]
  },
  {
   "cell_type": "code",
   "execution_count": 8,
   "metadata": {},
   "outputs": [
    {
     "data": {
      "text/plain": [
       "7853472"
      ]
     },
     "execution_count": 8,
     "metadata": {},
     "output_type": "execute_result"
    }
   ],
   "source": [
    "n_points_in_circle"
   ]
  },
  {
   "cell_type": "code",
   "execution_count": 9,
   "metadata": {},
   "outputs": [
    {
     "data": {
      "text/plain": [
       "3.1413888"
      ]
     },
     "execution_count": 9,
     "metadata": {},
     "output_type": "execute_result"
    }
   ],
   "source": [
    "pi = 4 * n_points_in_circle / n_points\n",
    "pi"
   ]
  },
  {
   "cell_type": "code",
   "execution_count": 11,
   "metadata": {},
   "outputs": [
    {
     "name": "stdout",
     "output_type": "stream",
     "text": [
      "Pi = 3.1413888\n"
     ]
    }
   ],
   "source": [
    "print(f'Pi = {pi}')"
   ]
  },
  {
   "cell_type": "markdown",
   "metadata": {},
   "source": [
    "# Task 2"
   ]
  },
  {
   "cell_type": "code",
   "execution_count": 3,
   "metadata": {},
   "outputs": [],
   "source": [
    "n = np.linspace(2, 99, 98)"
   ]
  },
  {
   "cell_type": "code",
   "execution_count": 4,
   "metadata": {},
   "outputs": [],
   "source": [
    "import itertools as it"
   ]
  },
  {
   "cell_type": "code",
   "execution_count": 37,
   "metadata": {},
   "outputs": [],
   "source": [
    "all_combinations = np.array(list(it.combinations_with_replacement(n, 2)))"
   ]
  },
  {
   "cell_type": "code",
   "execution_count": 45,
   "metadata": {},
   "outputs": [],
   "source": [
    "# get pairs, that have not unique product\n",
    "def first_condition(candidates):\n",
    "    prods = np.prod(candidates, axis=1)\n",
    "    unique, counts = np.unique(prods, return_counts=True)\n",
    "    dict_counts = dict(zip(unique, counts))\n",
    "    mask = np.array([dict_counts[x] != 1 for x in prods])\n",
    "    return candidates[mask]\n",
    "\n",
    "# check all possible sums, where all pairs of terms haven't unique product\n",
    "# then return thats pairs\n",
    "def second_condition(candidates):\n",
    "    sums = np.sum(candidates, axis=1)\n",
    "    unique = np.unique(sums)\n",
    "    ix = [np.where(sums == i) for i in unique]\n",
    "    candidates = [candidates[i[0]] for i in ix if candidates[i[0]][-1][0] == candidates[i[0]].shape[0] + 1]\n",
    "    return np.concatenate(candidates, axis=0)\n",
    "\n",
    "# return pairs that have unique product\n",
    "def third_condition(candidates):\n",
    "    prods = np.prod(candidates, axis=1)\n",
    "    unique, counts = np.unique(prods, return_counts=True)\n",
    "    dict_counts = dict(zip(unique, counts))\n",
    "    mask = np.array([dict_counts[x] == 1 for x in prods])\n",
    "    return candidates[mask]\n",
    "\n",
    "# return pairs that have unique sum\n",
    "def fourth_condition(candidates):\n",
    "    sums = np.sum(candidates, axis=1)\n",
    "    unique, counts = np.unique(sums, return_counts=True)\n",
    "    dict_counts = dict(zip(unique, counts))\n",
    "    mask = np.array([dict_counts[x] == 1 for x in sums])\n",
    "    return candidates[mask]"
   ]
  },
  {
   "cell_type": "code",
   "execution_count": 46,
   "metadata": {},
   "outputs": [
    {
     "data": {
      "text/plain": [
       "array([[ 4., 13.]])"
      ]
     },
     "execution_count": 46,
     "metadata": {},
     "output_type": "execute_result"
    }
   ],
   "source": [
    "r1 = first_condition(all_combinations)\n",
    "r2 = second_condition(r1)\n",
    "r3 = third_condition(r2)\n",
    "r4 = fourth_condition(r3)\n",
    "r4"
   ]
  },
  {
   "cell_type": "markdown",
   "metadata": {},
   "source": [
    "The solution is (4; 13)"
   ]
  },
  {
   "cell_type": "markdown",
   "metadata": {},
   "source": [
    "## Searching solution"
   ]
  },
  {
   "cell_type": "code",
   "execution_count": 5,
   "metadata": {},
   "outputs": [],
   "source": [
    "combinations = np.array(list(it.combinations_with_replacement(n, 2)))"
   ]
  },
  {
   "cell_type": "code",
   "execution_count": 6,
   "metadata": {},
   "outputs": [
    {
     "data": {
      "text/plain": [
       "array([4.000e+00, 6.000e+00, 8.000e+00, ..., 9.604e+03, 9.702e+03,\n",
       "       9.801e+03])"
      ]
     },
     "execution_count": 6,
     "metadata": {},
     "output_type": "execute_result"
    }
   ],
   "source": [
    "prods = np.prod(combinations, axis=1)\n",
    "prods"
   ]
  },
  {
   "cell_type": "code",
   "execution_count": 7,
   "metadata": {},
   "outputs": [
    {
     "data": {
      "text/plain": [
       "array([ 36.,  40.,  44.,  48.,  52.,  56.,  60.,  64.,  68.,  72.,  76.,\n",
       "        80.,  84.,  88.,  92.,  96., 100., 104., 108., 112., 116., 120.,\n",
       "       124., 128., 132., 136., 140., 144., 148., 152., 156., 160., 164.,\n",
       "       168., 172., 176., 180., 184., 188., 192., 196., 200., 204., 208.,\n",
       "       212., 216., 220., 224., 228., 232., 236., 240., 244., 248., 252.,\n",
       "       256., 260., 264., 268., 272., 276., 280., 284., 288., 292., 296.,\n",
       "       300., 304., 308., 312., 316., 320., 324., 328., 332., 336., 340.,\n",
       "       344., 348., 352., 356., 360., 364., 368., 372., 376., 380., 384.,\n",
       "       388., 392., 396.,  25.,  30.,  35.,  40.,  45.,  50.,  55.,  60.,\n",
       "        65.])"
      ]
     },
     "execution_count": 7,
     "metadata": {},
     "output_type": "execute_result"
    }
   ],
   "source": [
    "prods[200:300]"
   ]
  },
  {
   "cell_type": "code",
   "execution_count": 8,
   "metadata": {},
   "outputs": [],
   "source": [
    "unique, counts = np.unique(prods, return_counts=True)"
   ]
  },
  {
   "cell_type": "code",
   "execution_count": 9,
   "metadata": {},
   "outputs": [],
   "source": [
    "dict_counts = dict(zip(unique, counts))"
   ]
  },
  {
   "cell_type": "code",
   "execution_count": 10,
   "metadata": {},
   "outputs": [
    {
     "data": {
      "text/plain": [
       "array([False, False, False, ..., False, False, False])"
      ]
     },
     "execution_count": 10,
     "metadata": {},
     "output_type": "execute_result"
    }
   ],
   "source": [
    "mask = np.array([dict_counts[x] != 1 for x in prods])\n",
    "mask"
   ]
  },
  {
   "cell_type": "code",
   "execution_count": 11,
   "metadata": {},
   "outputs": [
    {
     "data": {
      "text/plain": [
       "array([[ 2.,  6.],\n",
       "       [ 2.,  8.],\n",
       "       [ 2.,  9.],\n",
       "       ...,\n",
       "       [84., 88.],\n",
       "       [84., 91.],\n",
       "       [88., 90.]])"
      ]
     },
     "execution_count": 11,
     "metadata": {},
     "output_type": "execute_result"
    }
   ],
   "source": [
    "combinations_1 = combinations[mask]\n",
    "combinations_1"
   ]
  },
  {
   "cell_type": "code",
   "execution_count": 12,
   "metadata": {},
   "outputs": [
    {
     "data": {
      "text/plain": [
       "array([  8.,  10.,  11., ..., 172., 175., 178.])"
      ]
     },
     "execution_count": 12,
     "metadata": {},
     "output_type": "execute_result"
    }
   ],
   "source": [
    "sums = np.sum(combinations_1, axis=1)\n",
    "sums"
   ]
  },
  {
   "cell_type": "code",
   "execution_count": 13,
   "metadata": {},
   "outputs": [],
   "source": [
    "unique = np.unique(sums)"
   ]
  },
  {
   "cell_type": "code",
   "execution_count": 14,
   "metadata": {},
   "outputs": [],
   "source": [
    "ix = [np.where(sums == i) for i in unique]"
   ]
  },
  {
   "cell_type": "code",
   "execution_count": 15,
   "metadata": {},
   "outputs": [
    {
     "data": {
      "text/plain": [
       "171"
      ]
     },
     "execution_count": 15,
     "metadata": {},
     "output_type": "execute_result"
    }
   ],
   "source": [
    "len(ix)"
   ]
  },
  {
   "cell_type": "code",
   "execution_count": 16,
   "metadata": {},
   "outputs": [],
   "source": [
    "candidates = [combinations_1[i[0]] for i in ix if combinations_1[i[0]][-1][0] == combinations_1[i[0]].shape[0] + 1]"
   ]
  },
  {
   "cell_type": "code",
   "execution_count": 17,
   "metadata": {},
   "outputs": [
    {
     "data": {
      "text/plain": [
       "[array([[2., 9.],\n",
       "        [3., 8.],\n",
       "        [4., 7.],\n",
       "        [5., 6.]]),\n",
       " array([[ 2., 15.],\n",
       "        [ 3., 14.],\n",
       "        [ 4., 13.],\n",
       "        [ 5., 12.],\n",
       "        [ 6., 11.],\n",
       "        [ 7., 10.],\n",
       "        [ 8.,  9.]]),\n",
       " array([[ 2., 21.],\n",
       "        [ 3., 20.],\n",
       "        [ 4., 19.],\n",
       "        [ 5., 18.],\n",
       "        [ 6., 17.],\n",
       "        [ 7., 16.],\n",
       "        [ 8., 15.],\n",
       "        [ 9., 14.],\n",
       "        [10., 13.],\n",
       "        [11., 12.]]),\n",
       " array([[ 2., 25.],\n",
       "        [ 3., 24.],\n",
       "        [ 4., 23.],\n",
       "        [ 5., 22.],\n",
       "        [ 6., 21.],\n",
       "        [ 7., 20.],\n",
       "        [ 8., 19.],\n",
       "        [ 9., 18.],\n",
       "        [10., 17.],\n",
       "        [11., 16.],\n",
       "        [12., 15.],\n",
       "        [13., 14.]]),\n",
       " array([[ 2., 27.],\n",
       "        [ 3., 26.],\n",
       "        [ 4., 25.],\n",
       "        [ 5., 24.],\n",
       "        [ 6., 23.],\n",
       "        [ 7., 22.],\n",
       "        [ 8., 21.],\n",
       "        [ 9., 20.],\n",
       "        [10., 19.],\n",
       "        [11., 18.],\n",
       "        [12., 17.],\n",
       "        [13., 16.],\n",
       "        [14., 15.]]),\n",
       " array([[ 2., 33.],\n",
       "        [ 3., 32.],\n",
       "        [ 4., 31.],\n",
       "        [ 5., 30.],\n",
       "        [ 6., 29.],\n",
       "        [ 7., 28.],\n",
       "        [ 8., 27.],\n",
       "        [ 9., 26.],\n",
       "        [10., 25.],\n",
       "        [11., 24.],\n",
       "        [12., 23.],\n",
       "        [13., 22.],\n",
       "        [14., 21.],\n",
       "        [15., 20.],\n",
       "        [16., 19.],\n",
       "        [17., 18.]]),\n",
       " array([[ 2., 35.],\n",
       "        [ 3., 34.],\n",
       "        [ 4., 33.],\n",
       "        [ 5., 32.],\n",
       "        [ 6., 31.],\n",
       "        [ 7., 30.],\n",
       "        [ 8., 29.],\n",
       "        [ 9., 28.],\n",
       "        [10., 27.],\n",
       "        [11., 26.],\n",
       "        [12., 25.],\n",
       "        [13., 24.],\n",
       "        [14., 23.],\n",
       "        [15., 22.],\n",
       "        [16., 21.],\n",
       "        [17., 20.],\n",
       "        [18., 19.]]),\n",
       " array([[ 2., 39.],\n",
       "        [ 3., 38.],\n",
       "        [ 4., 37.],\n",
       "        [ 5., 36.],\n",
       "        [ 6., 35.],\n",
       "        [ 7., 34.],\n",
       "        [ 8., 33.],\n",
       "        [ 9., 32.],\n",
       "        [10., 31.],\n",
       "        [11., 30.],\n",
       "        [12., 29.],\n",
       "        [13., 28.],\n",
       "        [14., 27.],\n",
       "        [15., 26.],\n",
       "        [16., 25.],\n",
       "        [17., 24.],\n",
       "        [18., 23.],\n",
       "        [19., 22.],\n",
       "        [20., 21.]]),\n",
       " array([[ 2., 45.],\n",
       "        [ 3., 44.],\n",
       "        [ 4., 43.],\n",
       "        [ 5., 42.],\n",
       "        [ 6., 41.],\n",
       "        [ 7., 40.],\n",
       "        [ 8., 39.],\n",
       "        [ 9., 38.],\n",
       "        [10., 37.],\n",
       "        [11., 36.],\n",
       "        [12., 35.],\n",
       "        [13., 34.],\n",
       "        [14., 33.],\n",
       "        [15., 32.],\n",
       "        [16., 31.],\n",
       "        [17., 30.],\n",
       "        [18., 29.],\n",
       "        [19., 28.],\n",
       "        [20., 27.],\n",
       "        [21., 26.],\n",
       "        [22., 25.],\n",
       "        [23., 24.]]),\n",
       " array([[ 2., 51.],\n",
       "        [ 3., 50.],\n",
       "        [ 4., 49.],\n",
       "        [ 5., 48.],\n",
       "        [ 6., 47.],\n",
       "        [ 7., 46.],\n",
       "        [ 8., 45.],\n",
       "        [ 9., 44.],\n",
       "        [10., 43.],\n",
       "        [11., 42.],\n",
       "        [12., 41.],\n",
       "        [13., 40.],\n",
       "        [14., 39.],\n",
       "        [15., 38.],\n",
       "        [16., 37.],\n",
       "        [17., 36.],\n",
       "        [18., 35.],\n",
       "        [19., 34.],\n",
       "        [20., 33.],\n",
       "        [21., 32.],\n",
       "        [22., 31.],\n",
       "        [23., 30.],\n",
       "        [24., 29.],\n",
       "        [25., 28.],\n",
       "        [26., 27.]])]"
      ]
     },
     "execution_count": 17,
     "metadata": {},
     "output_type": "execute_result"
    }
   ],
   "source": [
    "candidates"
   ]
  },
  {
   "cell_type": "code",
   "execution_count": 29,
   "metadata": {},
   "outputs": [],
   "source": [
    "combinations_2 = np.concatenate(candidates, axis=0)"
   ]
  },
  {
   "cell_type": "code",
   "execution_count": 21,
   "metadata": {},
   "outputs": [],
   "source": [
    "prods_step_3 = np.prod(combinations_2, axis=1)"
   ]
  },
  {
   "cell_type": "code",
   "execution_count": 26,
   "metadata": {},
   "outputs": [],
   "source": [
    "unique, counts = np.unique(prods_step_3, return_counts=True)"
   ]
  },
  {
   "cell_type": "code",
   "execution_count": 27,
   "metadata": {},
   "outputs": [],
   "source": [
    "dict_counts = dict(zip(unique, counts))"
   ]
  },
  {
   "cell_type": "code",
   "execution_count": 31,
   "metadata": {},
   "outputs": [
    {
     "data": {
      "text/plain": [
       "array([ True,  True,  True, False, False, False,  True, False, False,\n",
       "       False, False, False, False,  True, False, False,  True, False,\n",
       "       False,  True, False,  True, False,  True,  True, False,  True,\n",
       "        True,  True,  True,  True, False,  True,  True, False,  True,\n",
       "       False,  True,  True,  True, False,  True,  True,  True,  True,\n",
       "       False, False,  True,  True, False,  True, False,  True,  True,\n",
       "        True, False,  True, False,  True, False,  True,  True, False,\n",
       "       False, False,  True,  True, False,  True,  True,  True, False,\n",
       "       False, False, False, False,  True,  True, False, False,  True,\n",
       "        True, False, False,  True, False,  True,  True, False,  True,\n",
       "        True,  True,  True,  True,  True,  True,  True, False, False,\n",
       "       False,  True, False,  True,  True, False, False,  True, False,\n",
       "       False,  True, False,  True,  True,  True,  True,  True,  True,\n",
       "       False,  True,  True, False, False, False,  True,  True, False,\n",
       "        True, False,  True, False,  True,  True, False,  True,  True,\n",
       "        True,  True,  True,  True,  True,  True,  True,  True,  True,\n",
       "        True])"
      ]
     },
     "execution_count": 31,
     "metadata": {},
     "output_type": "execute_result"
    }
   ],
   "source": [
    "mask = np.array([dict_counts[x] == 1 for x in prods_step_3])\n",
    "mask"
   ]
  },
  {
   "cell_type": "code",
   "execution_count": 32,
   "metadata": {},
   "outputs": [
    {
     "data": {
      "text/plain": [
       "array([[ 2.,  9.],\n",
       "       [ 3.,  8.],\n",
       "       [ 4.,  7.],\n",
       "       [ 4., 13.],\n",
       "       [ 4., 19.],\n",
       "       [ 7., 16.],\n",
       "       [10., 13.],\n",
       "       [ 2., 25.],\n",
       "       [ 4., 23.],\n",
       "       [ 5., 22.],\n",
       "       [ 7., 20.],\n",
       "       [ 8., 19.],\n",
       "       [ 9., 18.],\n",
       "       [10., 17.],\n",
       "       [11., 16.],\n",
       "       [13., 14.],\n",
       "       [ 2., 27.],\n",
       "       [ 4., 25.],\n",
       "       [ 6., 23.],\n",
       "       [ 7., 22.],\n",
       "       [ 8., 21.],\n",
       "       [10., 19.],\n",
       "       [11., 18.],\n",
       "       [12., 17.],\n",
       "       [13., 16.],\n",
       "       [ 3., 32.],\n",
       "       [ 4., 31.],\n",
       "       [ 6., 29.],\n",
       "       [ 8., 27.],\n",
       "       [ 9., 26.],\n",
       "       [10., 25.],\n",
       "       [12., 23.],\n",
       "       [14., 21.],\n",
       "       [16., 19.],\n",
       "       [17., 18.],\n",
       "       [ 5., 32.],\n",
       "       [ 6., 31.],\n",
       "       [ 8., 29.],\n",
       "       [ 9., 28.],\n",
       "       [10., 27.],\n",
       "       [16., 21.],\n",
       "       [17., 20.],\n",
       "       [ 3., 38.],\n",
       "       [ 4., 37.],\n",
       "       [ 7., 34.],\n",
       "       [ 9., 32.],\n",
       "       [10., 31.],\n",
       "       [12., 29.],\n",
       "       [13., 28.],\n",
       "       [14., 27.],\n",
       "       [15., 26.],\n",
       "       [16., 25.],\n",
       "       [17., 24.],\n",
       "       [18., 23.],\n",
       "       [19., 22.],\n",
       "       [ 4., 43.],\n",
       "       [ 6., 41.],\n",
       "       [ 7., 40.],\n",
       "       [10., 37.],\n",
       "       [13., 34.],\n",
       "       [15., 32.],\n",
       "       [16., 31.],\n",
       "       [17., 30.],\n",
       "       [18., 29.],\n",
       "       [19., 28.],\n",
       "       [20., 27.],\n",
       "       [22., 25.],\n",
       "       [23., 24.],\n",
       "       [ 5., 48.],\n",
       "       [ 6., 47.],\n",
       "       [ 8., 45.],\n",
       "       [10., 43.],\n",
       "       [12., 41.],\n",
       "       [13., 40.],\n",
       "       [15., 38.],\n",
       "       [16., 37.],\n",
       "       [17., 36.],\n",
       "       [18., 35.],\n",
       "       [19., 34.],\n",
       "       [20., 33.],\n",
       "       [21., 32.],\n",
       "       [22., 31.],\n",
       "       [23., 30.],\n",
       "       [24., 29.],\n",
       "       [25., 28.],\n",
       "       [26., 27.]])"
      ]
     },
     "execution_count": 32,
     "metadata": {},
     "output_type": "execute_result"
    }
   ],
   "source": [
    "combinations_3 = combinations_2[mask]\n",
    "combinations_3"
   ]
  },
  {
   "cell_type": "code",
   "execution_count": 33,
   "metadata": {},
   "outputs": [
    {
     "data": {
      "text/plain": [
       "86"
      ]
     },
     "execution_count": 33,
     "metadata": {},
     "output_type": "execute_result"
    }
   ],
   "source": [
    "len(combinations_3)"
   ]
  },
  {
   "cell_type": "code",
   "execution_count": 34,
   "metadata": {},
   "outputs": [
    {
     "data": {
      "text/plain": [
       "array([11., 11., 11., 17., 23., 23., 23., 27., 27., 27., 27., 27., 27.,\n",
       "       27., 27., 27., 29., 29., 29., 29., 29., 29., 29., 29., 29., 35.,\n",
       "       35., 35., 35., 35., 35., 35., 35., 35., 35., 37., 37., 37., 37.,\n",
       "       37., 37., 37., 41., 41., 41., 41., 41., 41., 41., 41., 41., 41.,\n",
       "       41., 41., 41., 47., 47., 47., 47., 47., 47., 47., 47., 47., 47.,\n",
       "       47., 47., 47., 53., 53., 53., 53., 53., 53., 53., 53., 53., 53.,\n",
       "       53., 53., 53., 53., 53., 53., 53., 53.])"
      ]
     },
     "execution_count": 34,
     "metadata": {},
     "output_type": "execute_result"
    }
   ],
   "source": [
    "sums_step_4 = np.sum(combinations_3, axis=1)\n",
    "sums_step_4"
   ]
  },
  {
   "cell_type": "code",
   "execution_count": 35,
   "metadata": {},
   "outputs": [
    {
     "data": {
      "text/plain": [
       "array([11., 11., 11., 17., 23., 23., 23., 27., 27., 27., 27., 27., 27.,\n",
       "       27., 27., 27., 29., 29., 29., 29., 29., 29., 29., 29., 29., 35.,\n",
       "       35., 35., 35., 35., 35., 35., 35., 35., 35., 37., 37., 37., 37.,\n",
       "       37., 37., 37., 41., 41., 41., 41., 41., 41., 41., 41., 41., 41.,\n",
       "       41., 41., 41., 47., 47., 47., 47., 47., 47., 47., 47., 47., 47.,\n",
       "       47., 47., 47., 53., 53., 53., 53., 53., 53., 53., 53., 53., 53.,\n",
       "       53., 53., 53., 53., 53., 53., 53., 53.])"
      ]
     },
     "execution_count": 35,
     "metadata": {},
     "output_type": "execute_result"
    }
   ],
   "source": [
    "sums_step_4 = np.sum(combinations_3, axis=1)\n",
    "sums_step_4"
   ]
  },
  {
   "cell_type": "code",
   "execution_count": 36,
   "metadata": {},
   "outputs": [],
   "source": [
    "unique, counts = np.unique(sums_step_4, return_counts=True)"
   ]
  }
 ],
 "metadata": {
  "kernelspec": {
   "display_name": "Python 3.8.10 ('.venv': venv)",
   "language": "python",
   "name": "python3"
  },
  "language_info": {
   "codemirror_mode": {
    "name": "ipython",
    "version": 3
   },
   "file_extension": ".py",
   "mimetype": "text/x-python",
   "name": "python",
   "nbconvert_exporter": "python",
   "pygments_lexer": "ipython3",
   "version": "3.8.10"
  },
  "orig_nbformat": 4,
  "vscode": {
   "interpreter": {
    "hash": "84551c2ebd8c96e161ba3333ce7dc333d3433bf8847ae2dc81ce700f026a115b"
   }
  }
 },
 "nbformat": 4,
 "nbformat_minor": 2
}
